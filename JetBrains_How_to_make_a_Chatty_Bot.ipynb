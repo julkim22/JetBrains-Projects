{
  "nbformat": 4,
  "nbformat_minor": 0,
  "metadata": {
    "colab": {
      "provenance": []
    },
    "kernelspec": {
      "name": "python3",
      "display_name": "Python 3"
    },
    "language_info": {
      "name": "python"
    }
  },
  "cells": [
    {
      "cell_type": "code",
      "execution_count": null,
      "metadata": {
        "colab": {
          "base_uri": "https://localhost:8080/"
        },
        "id": "SvktESoE2n9x",
        "outputId": "81886511-bcf8-4154-82e6-0c30fd53a6ff"
      },
      "outputs": [
        {
          "output_type": "stream",
          "name": "stdout",
          "text": [
            "Hello! My name is Bell\n",
            "I was created in 2022\n"
          ]
        }
      ],
      "source": [
        "print(\"Hello! My name is Bell.\")\n",
        "print('I was created in 2022.')\n"
      ]
    },
    {
      "cell_type": "code",
      "source": [
        "print(\"\"\" Hello! My name is Aid.\n",
        "I was created in 2020.\n",
        "Plese, remind me your name.\"\"\")\n",
        "name = input()\n",
        "print('What a great name you have, ' + name + '!')\n",
        "print(\"Let me guess your age.\")\n",
        "print(\"Enter reminders of deviding your age by 3, 5, and 7.\")\n",
        "age_3 = int(input())\n",
        "age_5 = int(input())\n",
        "age_7 = int(input())\n",
        "your_age = (age_3 * 70 + age_5 * 21 + age_7 * 15) % 105 \n",
        "print(\"Your age is \" + your_age + ';' + \"that's a good time to start programming!\")"
      ],
      "metadata": {
        "colab": {
          "base_uri": "https://localhost:8080/",
          "height": 396
        },
        "id": "LAejnuNIywzc",
        "outputId": "52d0a55a-5434-4dfa-a3e7-ef78fab27087"
      },
      "execution_count": null,
      "outputs": [
        {
          "name": "stdout",
          "output_type": "stream",
          "text": [
            " Hello! My name is Aid.\n",
            "I was created in 2020.\n",
            "Plese, remind me your name.\n",
            "dd\n",
            "What a great name you have, dd!\n",
            "Let me guess your age.\n",
            "Enter reminders of deviding your age by 3, 5, and 7.\n",
            "1\n",
            "2\n",
            "1\n"
          ]
        },
        {
          "output_type": "error",
          "ename": "TypeError",
          "evalue": "ignored",
          "traceback": [
            "\u001b[0;31m---------------------------------------------------------------------------\u001b[0m",
            "\u001b[0;31mTypeError\u001b[0m                                 Traceback (most recent call last)",
            "\u001b[0;32m<ipython-input-224-00b2f72c35fa>\u001b[0m in \u001b[0;36m<module>\u001b[0;34m()\u001b[0m\n\u001b[1;32m     10\u001b[0m \u001b[0mage_7\u001b[0m \u001b[0;34m=\u001b[0m \u001b[0mint\u001b[0m\u001b[0;34m(\u001b[0m\u001b[0minput\u001b[0m\u001b[0;34m(\u001b[0m\u001b[0;34m)\u001b[0m\u001b[0;34m)\u001b[0m\u001b[0;34m\u001b[0m\u001b[0;34m\u001b[0m\u001b[0m\n\u001b[1;32m     11\u001b[0m \u001b[0myour_age\u001b[0m \u001b[0;34m=\u001b[0m \u001b[0;34m(\u001b[0m\u001b[0mage_3\u001b[0m \u001b[0;34m*\u001b[0m \u001b[0;36m70\u001b[0m \u001b[0;34m+\u001b[0m \u001b[0mage_5\u001b[0m \u001b[0;34m*\u001b[0m \u001b[0;36m21\u001b[0m \u001b[0;34m+\u001b[0m \u001b[0mage_7\u001b[0m \u001b[0;34m*\u001b[0m \u001b[0;36m15\u001b[0m\u001b[0;34m)\u001b[0m \u001b[0;34m%\u001b[0m \u001b[0;36m105\u001b[0m\u001b[0;34m\u001b[0m\u001b[0;34m\u001b[0m\u001b[0m\n\u001b[0;32m---> 12\u001b[0;31m \u001b[0mprint\u001b[0m\u001b[0;34m(\u001b[0m\u001b[0;34m\"Your age is \"\u001b[0m \u001b[0;34m+\u001b[0m \u001b[0myour_age\u001b[0m \u001b[0;34m+\u001b[0m \u001b[0;34m';'\u001b[0m \u001b[0;34m+\u001b[0m \u001b[0;34m\"that's a good time to start programming!\"\u001b[0m\u001b[0;34m)\u001b[0m\u001b[0;34m\u001b[0m\u001b[0;34m\u001b[0m\u001b[0m\n\u001b[0m",
            "\u001b[0;31mTypeError\u001b[0m: can only concatenate str (not \"int\") to str"
          ]
        }
      ]
    },
    {
      "cell_type": "code",
      "source": [
        "age_3 = int(input())\n",
        "age_5 = int(input())\n",
        "age_7 = int(input())\n",
        "your_age = (age_3 * 70 + age_5 * 21 + age_7 * 15) % 105\n",
        "print(your_age)"
      ],
      "metadata": {
        "colab": {
          "base_uri": "https://localhost:8080/"
        },
        "id": "TGRb4R4YwAz_",
        "outputId": "8e5dd120-33b0-45b7-d395-8eef68e8ff6c"
      },
      "execution_count": null,
      "outputs": [
        {
          "output_type": "stream",
          "name": "stdout",
          "text": [
            "1\n",
            "2\n",
            "1\n",
            "22\n"
          ]
        }
      ]
    },
    {
      "cell_type": "code",
      "source": [
        "age_3 = int(input())\n",
        "age_5 = int(input())\n",
        "age_7 = int(input())\n",
        "age_ = (age_3 * 70 + age_5 * 21 + age_7 * 15) % 105 \n",
        "print(\"Your age is\" , age_, ';', \"that's a good time to start programming!\")"
      ],
      "metadata": {
        "colab": {
          "base_uri": "https://localhost:8080/"
        },
        "id": "nsGXCQNh3K75",
        "outputId": "e9fc29ca-8fe4-415e-a2d6-d1db6263371c"
      },
      "execution_count": null,
      "outputs": [
        {
          "output_type": "stream",
          "name": "stdout",
          "text": [
            "1\n",
            "2\n",
            "1\n",
            "Your age is 22 ; that's a good time to start programming!\n"
          ]
        }
      ]
    },
    {
      "cell_type": "code",
      "source": [
        "print(\"Now I will prove to you that I can count to any number you want.\")\n",
        "n = int(input())\n",
        "number = 0\n",
        "while number <= n:\n",
        "  print(number, '!') \n",
        "  number +=1\n",
        "print(\"Completed, have a nice day!\")\n",
        "\n"
      ],
      "metadata": {
        "colab": {
          "base_uri": "https://localhost:8080/"
        },
        "id": "dPndw8Bq6pvO",
        "outputId": "c8c1c9ad-0051-40d1-f2d7-ff2aa261bc5d"
      },
      "execution_count": null,
      "outputs": [
        {
          "output_type": "stream",
          "name": "stdout",
          "text": [
            "Now I will prove to you that I can count to any number you want.\n",
            "5\n",
            "0 !\n",
            "1 !\n",
            "2 !\n",
            "3 !\n",
            "4 !\n",
            "5 !\n",
            "Completed, have a nice day!\n"
          ]
        }
      ]
    },
    {
      "cell_type": "code",
      "source": [
        "number = \"111\"\n",
        "integer = int(number)\n",
        "float_n= float(number)\n",
        "print(integer)\n",
        "print(float_n)\n",
        "my_sum = sum((integer, float_n)) # for what there is using ((....))? \n",
        "print(my_sum)\n",
        "print(round(my_sum))"
      ],
      "metadata": {
        "colab": {
          "base_uri": "https://localhost:8080/"
        },
        "id": "5FoisoHE-xiL",
        "outputId": "c504b6c0-83a7-4b5c-b720-73dcd27f1e7a"
      },
      "execution_count": null,
      "outputs": [
        {
          "output_type": "stream",
          "name": "stdout",
          "text": [
            "111\n",
            "111.0\n",
            "222.0\n",
            "222\n"
          ]
        }
      ]
    },
    {
      "cell_type": "code",
      "source": [
        "#finding the max and min\n",
        "integer = 3\n",
        "float_n = 5.4\n",
        "my_sum = sum((integer, float_n)) #there is the same ((...))\n",
        "print(min(integer, float_n))\n",
        "print(type(max(integer, float_n, my_sum)))\n",
        "\n"
      ],
      "metadata": {
        "colab": {
          "base_uri": "https://localhost:8080/"
        },
        "id": "JMU8UdloAxfu",
        "outputId": "586b425a-2b3b-4a3d-c93d-f9331c610aaf"
      },
      "execution_count": null,
      "outputs": [
        {
          "output_type": "stream",
          "name": "stdout",
          "text": [
            "3\n",
            "<class 'float'>\n"
          ]
        }
      ]
    },
    {
      "cell_type": "code",
      "source": [
        "help(len)\n",
        "#len(obj, /)"
      ],
      "metadata": {
        "id": "l3IxLBbLBla5"
      },
      "execution_count": null,
      "outputs": []
    },
    {
      "cell_type": "code",
      "source": [
        "print(type(print))"
      ],
      "metadata": {
        "colab": {
          "base_uri": "https://localhost:8080/"
        },
        "id": "s0wPC54KCRji",
        "outputId": "41e09fa3-b186-44ec-e6b9-1c3b46a9fab2"
      },
      "execution_count": null,
      "outputs": [
        {
          "output_type": "stream",
          "name": "stdout",
          "text": [
            "<class 'builtin_function_or_method'>\n"
          ]
        }
      ]
    },
    {
      "cell_type": "code",
      "source": [
        "word1 = input()\n",
        "word2 = input()\n",
        "a = len(word1)\n",
        "b = len(word2)\n",
        "print(max(a, b))\n",
        "\n"
      ],
      "metadata": {
        "colab": {
          "base_uri": "https://localhost:8080/"
        },
        "id": "K2ILfS5QDX3G",
        "outputId": "892030c0-2933-4253-e8d4-f16ea913bc22"
      },
      "execution_count": null,
      "outputs": [
        {
          "output_type": "stream",
          "name": "stdout",
          "text": [
            "apple\n",
            "one\n",
            "5\n"
          ]
        }
      ]
    },
    {
      "cell_type": "code",
      "source": [
        "#other var\n",
        "word1 = input()\n",
        "word2 = input()\n",
        "\n",
        "# How many letters does the longest word contain?\n",
        "\n",
        "print(max(len(word1), len(word2)))"
      ],
      "metadata": {
        "colab": {
          "base_uri": "https://localhost:8080/"
        },
        "id": "lsNsCP-CFXUW",
        "outputId": "857300ed-8d39-406e-9cc3-ba4869be8ca8"
      },
      "execution_count": null,
      "outputs": [
        {
          "output_type": "stream",
          "name": "stdout",
          "text": [
            "cucumber\n",
            "one\n",
            "8\n"
          ]
        }
      ]
    },
    {
      "cell_type": "code",
      "source": [
        "def multiply(x,y):\n",
        "  return x*y\n",
        "a = multiply(3, 5)\n",
        "b = multiply(a, 10)\n",
        "print(a, b)"
      ],
      "metadata": {
        "colab": {
          "base_uri": "https://localhost:8080/"
        },
        "id": "-r4An9s6Hpp3",
        "outputId": "c69d7df0-1ed2-450b-fcd6-b1478685cd5b"
      },
      "execution_count": null,
      "outputs": [
        {
          "output_type": "stream",
          "name": "stdout",
          "text": [
            "15 150\n"
          ]
        }
      ]
    },
    {
      "cell_type": "code",
      "source": [
        "def welcome():\n",
        "  print(\"Hello, people!\")\n",
        "def lazy_f(apapap):\n",
        "  pass\n",
        "print(welcome)\n"
      ],
      "metadata": {
        "colab": {
          "base_uri": "https://localhost:8080/"
        },
        "id": "AXGnjQYMIE62",
        "outputId": "7c32e702-c4fc-4ac4-cd61-af8548f42fc0"
      },
      "execution_count": null,
      "outputs": [
        {
          "output_type": "stream",
          "name": "stdout",
          "text": [
            "<function welcome at 0x7f8682dc8e60>\n"
          ]
        }
      ]
    },
    {
      "cell_type": "code",
      "source": [
        "def send_postcard(address, message):\n",
        "  print(\"Sending a postcard to\", address)\n",
        "  print(\"with the message:\", message)\n",
        "send_postcard(\"Hilton,97\", \"Hello, bro!\")\n"
      ],
      "metadata": {
        "colab": {
          "base_uri": "https://localhost:8080/"
        },
        "id": "QShcxmgFJLcA",
        "outputId": "11fcfc72-6d02-42ba-f249-210b1ff08749"
      },
      "execution_count": null,
      "outputs": [
        {
          "output_type": "stream",
          "name": "stdout",
          "text": [
            "Sending a postcard to Hilton,97\n",
            "with the message: Hello, bro!\n"
          ]
        }
      ]
    },
    {
      "cell_type": "code",
      "source": [
        "def c_to_f(temp_c):\n",
        "  temp_f = temp_c * 9 / 5 + 32\n",
        "  return round(temp_f, 2)\n",
        "water_bp = c_to_f(100)\n",
        "print(water_bp)"
      ],
      "metadata": {
        "colab": {
          "base_uri": "https://localhost:8080/"
        },
        "id": "xxMd28awK3ny",
        "outputId": "2071474a-11fc-4f4d-c2bb-784fa015d4d8"
      },
      "execution_count": null,
      "outputs": [
        {
          "output_type": "stream",
          "name": "stdout",
          "text": [
            "212.0\n"
          ]
        }
      ]
    },
    {
      "cell_type": "code",
      "source": [
        "name = input()\n",
        "captain_adder = \"captain \" + name\n",
        "print(f\"{captain_adder}\")"
      ],
      "metadata": {
        "colab": {
          "base_uri": "https://localhost:8080/"
        },
        "id": "cQtiPUuSktDM",
        "outputId": "9613c62b-17e7-4ef3-fd3b-6906a531035a"
      },
      "execution_count": null,
      "outputs": [
        {
          "output_type": "stream",
          "name": "stdout",
          "text": [
            "ben\n",
            "captain ben\n"
          ]
        }
      ]
    },
    {
      "cell_type": "code",
      "source": [
        "def captain_adder(name):\n",
        "  name = input()\n",
        "  print(\"captain\" + name)\n",
        "print(f\"{captain_adder(name)}\")"
      ],
      "metadata": {
        "colab": {
          "base_uri": "https://localhost:8080/"
        },
        "id": "rrYkCReamJ-H",
        "outputId": "76fbc26b-fc87-48b3-f7c6-3f7c7e01a45c"
      },
      "execution_count": null,
      "outputs": [
        {
          "output_type": "stream",
          "name": "stdout",
          "text": [
            "jack\n",
            "captainjack\n",
            "None\n"
          ]
        }
      ]
    },
    {
      "cell_type": "code",
      "source": [
        "def captain_adder(name):\n",
        "  name = input()\n",
        "  print(\"captain \" + name)"
      ],
      "metadata": {
        "id": "dop5tqdumm7j"
      },
      "execution_count": null,
      "outputs": []
    },
    {
      "cell_type": "code",
      "source": [
        "def captain_adder(name):\n",
        "  name = str(input)\n",
        "print(f\"captain {captain_adder(name)}\")\n"
      ],
      "metadata": {
        "colab": {
          "base_uri": "https://localhost:8080/"
        },
        "id": "-mzSPMtxncI9",
        "outputId": "cfdd65bd-c8d4-4073-8d0a-726c45871ac7"
      },
      "execution_count": null,
      "outputs": [
        {
          "output_type": "stream",
          "name": "stdout",
          "text": [
            "captain None\n"
          ]
        }
      ]
    },
    {
      "cell_type": "code",
      "source": [
        "#other versions\n",
        "def captain_adder(name):\n",
        "    print(\"captain\", name)\n",
        "\n",
        "# declare your function here\n",
        "def captain_adder(name):\n",
        "    print(f\"captain {name}\")\n",
        "\n",
        "# declare your function here\n",
        "def captain_adder(name: str):\n",
        "    print(f'captain {name}')\n"
      ],
      "metadata": {
        "id": "aPA55K0UBQeY"
      },
      "execution_count": null,
      "outputs": []
    },
    {
      "cell_type": "code",
      "source": [
        "factorial = x\n",
        "def new_function(x):\n",
        "  x = \"Don't cheat!\"\n",
        "  print(x)\n",
        "factorial = new_function\n",
        "\n",
        "#other variants\n",
        "def new_math_factorial(x):\n",
        "    x = \"Don't cheat!\"\n",
        "    print(x)\n",
        "\n",
        "def dont_cheat_lol(n):\n",
        "    print(\"Don't cheat!\")\n",
        "    \n",
        "math.factorial = dont_cheat_lol\n",
        "\n"
      ],
      "metadata": {
        "id": "miKCdt6dCeh0"
      },
      "execution_count": null,
      "outputs": []
    },
    {
      "cell_type": "code",
      "source": [
        "today = \"Monday\"\n",
        "if today == \"holiday\":\n",
        "  print(\"Lucky you!\")\n",
        "else:\n",
        "  print(\"Keep your chin up, then.\")"
      ],
      "metadata": {
        "colab": {
          "base_uri": "https://localhost:8080/"
        },
        "id": "jJTjg5OaUQ7q",
        "outputId": "ec3ea7f1-bd80-441e-a5af-221a6d9c9de2"
      },
      "execution_count": null,
      "outputs": [
        {
          "output_type": "stream",
          "name": "stdout",
          "text": [
            "Keep your chin up, then.\n"
          ]
        }
      ]
    },
    {
      "cell_type": "code",
      "source": [
        "#print(\"It's a day now!\" if sun else \"It's a night for sure!\")\n",
        "#first_alternative if condition else second_condition"
      ],
      "metadata": {
        "id": "910oFTEBU0Cq"
      },
      "execution_count": null,
      "outputs": []
    },
    {
      "cell_type": "code",
      "source": [
        "a = int(input())\n",
        "b = int(input())\n",
        "if a >= b:\n",
        "  print(a)\n",
        "  print(b)\n",
        "else:\n",
        "  print(b)\n",
        "  print(a)\n",
        "\n",
        "\n",
        "  #other variants \n",
        "  A_1 = int(input())\n",
        "B_2 = int(input())\n",
        "if A_1 > B_2:\n",
        "    print(A_1)\n",
        "    print(B_2)\n",
        "elif B_2 >= A_1:\n",
        "    print(B_2)\n",
        "    print(A_1)\n",
        "\n",
        "\n",
        "a = int(input())\n",
        "b = int(input())\n",
        "\n",
        "print(max([a, b]))\n",
        "print(min([a, b]))   \n",
        "\n",
        "\n",
        "\n",
        "a = int(input())\n",
        "b = int(input())\n",
        "\n",
        "max_number = a\n",
        "\n",
        "if b > max_number:\n",
        "    print(b)\n",
        "    print(a)\n",
        "else:\n",
        "    print(a)\n",
        "    print(b)"
      ],
      "metadata": {
        "id": "n5n0zhwscj9I"
      },
      "execution_count": null,
      "outputs": []
    },
    {
      "cell_type": "code",
      "source": [
        "x = 111\n",
        "print(x*3 if x <= 99988 else x * 2)"
      ],
      "metadata": {
        "colab": {
          "base_uri": "https://localhost:8080/"
        },
        "id": "ArcGtYGMntgy",
        "outputId": "36c401c3-6067-4191-d39e-81595fae7493"
      },
      "execution_count": null,
      "outputs": [
        {
          "output_type": "stream",
          "name": "stdout",
          "text": [
            "333\n"
          ]
        }
      ]
    },
    {
      "cell_type": "code",
      "source": [
        "a = 9\n",
        "b = 9\n",
        "if a > b:\n",
        "  print(a)\n",
        "else: \n",
        "  print(b)\n",
        "\n"
      ],
      "metadata": {
        "colab": {
          "base_uri": "https://localhost:8080/"
        },
        "id": "mw6gjO6poIYa",
        "outputId": "9c3117b1-3775-4857-eb30-241cb9629763"
      },
      "execution_count": null,
      "outputs": [
        {
          "output_type": "stream",
          "name": "stdout",
          "text": [
            "9\n"
          ]
        }
      ]
    },
    {
      "cell_type": "code",
      "source": [
        "\n",
        "print(\"Let's test your programming knowledge\")\n",
        "print(\"Why do we use methods?\")\n",
        "quiz = str(\"\"\"\n",
        "1. To repeat a statement multiple times.\n",
        "2. To decompose a program into several small subrotines.\n",
        "3. To determine the execution time of a program. \n",
        "4. To interrupt the execution of a program.\n",
        "\"\"\")\n",
        "print(quiz)\n",
        "while True:\n",
        "  answer = int(input()) \n",
        "  if answer != 2:\n",
        "    print(\"Please, try again\")\n",
        "  else:\n",
        "    print(\"Congratulations, have a nice day!\")\n",
        "    break \n"
      ],
      "metadata": {
        "colab": {
          "base_uri": "https://localhost:8080/"
        },
        "id": "IUg3zkVW_FR4",
        "outputId": "c4033f68-d2ac-4ca4-9b85-167a767c7428"
      },
      "execution_count": null,
      "outputs": [
        {
          "output_type": "stream",
          "name": "stdout",
          "text": [
            "Let's test your programming knowledge\n",
            "Why do we use methods?\n",
            "\n",
            "1. To repeat a statement multiple times.\n",
            "2. To decompose a program into several small subrotines.\n",
            "3. To determine the execution time of a program. \n",
            "4. To interrupt the execution of a program.\n",
            "\n",
            "3\n",
            "Please, try again\n",
            "1\n",
            "Please, try again\n",
            "2\n",
            "Congratulations, have a nice day!\n"
          ]
        }
      ]
    },
    {
      "cell_type": "code",
      "source": [
        "def greet(name, year):\n",
        "    print('Hello! My name is ' + name + '.')\n",
        "    print('I was created in ' + year + '.')\n",
        "\n",
        "def remind_name():\n",
        "    print('Please, remind me your name.')\n",
        "    name = input()\n",
        "    print('What a great name you have, ' + name + '!')\n",
        "\n",
        "def guess_age():\n",
        "    print('Let me guess your age.')\n",
        "    print('Enter remainders of dividing your age by 3, 5 and 7.')\n",
        "\n",
        "    rem3 = int(input())\n",
        "    rem5 = int(input())\n",
        "    rem7 = int(input())\n",
        "    age = (rem3 * 70 + rem5 * 21 + rem7 * 15) % 105\n",
        "\n",
        "    print(\"Your age is \" + str(age) + \"; that's a good time to start programming!\")\n",
        "\n",
        "def count():\n",
        "    print('Now I will prove to you that I can count to any number you want.')\n",
        "\n",
        "    num = int(input())\n",
        "    curr = 0\n",
        "    while curr <= num:\n",
        "        print(curr, '!')\n",
        "        curr = curr + 1\n",
        "\n",
        "def test():\n",
        "    print(\"Let's test your programming knowledge.\")\n",
        "    print(\"Why do we use methods?\")\n",
        "    quiz = str(\"\"\"\n",
        "    1. To repeat a statement multiple times.\n",
        "    2. To decompose a program into several small subrotines.\n",
        "    3. To determine the execution time of a program. \n",
        "    4. To interrupt the execution of a program.\n",
        "    \"\"\")\n",
        "    print(quiz)\n",
        "    while True:\n",
        "      answer = int(input()) \n",
        "      if answer != 2:\n",
        "        print(\"Please, try again\")\n",
        "  \n",
        "      else:\n",
        "        print(\"Completed, have a nice day!\")\n",
        "        break \n",
        "\n",
        "def end():\n",
        "    print('Congratulations, have a nice day!')\n",
        "\n",
        "greet('Alice', '2022')  \n",
        "remind_name()\n",
        "guess_age()\n",
        "count()\n",
        "test()\n",
        "end()\n"
      ],
      "metadata": {
        "id": "eosAP4mKAiDS"
      },
      "execution_count": null,
      "outputs": []
    }
  ]
}